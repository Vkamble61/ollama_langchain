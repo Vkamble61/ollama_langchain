{
 "cells": [
  {
   "cell_type": "code",
   "execution_count": 10,
   "id": "3d6e2b13",
   "metadata": {},
   "outputs": [
    {
     "name": "stdout",
     "output_type": "stream",
     "text": [
      "content=' The capital city of France is Paris.\\n' additional_kwargs={} response_metadata={'model': 'phi', 'created_at': '2025-04-11T16:52:59.2514173Z', 'done': True, 'done_reason': 'stop', 'total_duration': 740135200, 'load_duration': 23498200, 'prompt_eval_count': 39, 'prompt_eval_duration': 68128800, 'eval_count': 10, 'eval_duration': 645977500, 'message': Message(role='assistant', content='', images=None, tool_calls=None), 'model_name': 'phi'} id='run-78424ef6-b9b7-4258-81b6-d55f42bf3a80-0' usage_metadata={'input_tokens': 39, 'output_tokens': 10, 'total_tokens': 49}\n"
     ]
    }
   ],
   "source": [
    "from langchain_ollama import ChatOllama\n",
    "ollama_client = ChatOllama(model=\"phi\")\n",
    "prompt = \"What is the capital of France?\"\n",
    "output = ollama_client.invoke(prompt)\n",
    "print(output)\n"
   ]
  }
 ],
 "metadata": {
  "kernelspec": {
   "display_name": "ollama_langchain_demo",
   "language": "python",
   "name": "python3"
  },
  "language_info": {
   "codemirror_mode": {
    "name": "ipython",
    "version": 3
   },
   "file_extension": ".py",
   "mimetype": "text/x-python",
   "name": "python",
   "nbconvert_exporter": "python",
   "pygments_lexer": "ipython3",
   "version": "3.11.9"
  }
 },
 "nbformat": 4,
 "nbformat_minor": 5
}
